{
 "cells": [
  {
   "cell_type": "code",
   "execution_count": 1,
   "id": "9e9da127-7c20-4688-9e49-b8c9b911fc4a",
   "metadata": {},
   "outputs": [],
   "source": [
    "#필요한 import\n",
    "import pandas as pd\n",
    "import numpy as np"
   ]
  },
  {
   "cell_type": "markdown",
   "id": "fee2c02b-790f-4f12-ae4a-0c3ac8a720c6",
   "metadata": {},
   "source": [
    "## 1. movie 데이터의 크기를 줄여봅시다. "
   ]
  },
  {
   "cell_type": "code",
   "execution_count": 2,
   "id": "2171a5b7-f9fa-4336-8240-bd5606c8981c",
   "metadata": {},
   "outputs": [
    {
     "name": "stdout",
     "output_type": "stream",
     "text": [
      "<class 'pandas.core.frame.DataFrame'>\n",
      "RangeIndex: 4916 entries, 0 to 4915\n",
      "Data columns (total 28 columns):\n",
      " #   Column                     Non-Null Count  Dtype  \n",
      "---  ------                     --------------  -----  \n",
      " 0   color                      4897 non-null   object \n",
      " 1   director_name              4814 non-null   object \n",
      " 2   num_critic_for_reviews     4867 non-null   float64\n",
      " 3   duration                   4901 non-null   float64\n",
      " 4   director_facebook_likes    4814 non-null   float64\n",
      " 5   actor_3_facebook_likes     4893 non-null   float64\n",
      " 6   actor_2_name               4903 non-null   object \n",
      " 7   actor_1_facebook_likes     4909 non-null   float64\n",
      " 8   gross                      4054 non-null   float64\n",
      " 9   genres                     4916 non-null   object \n",
      " 10  actor_1_name               4909 non-null   object \n",
      " 11  movie_title                4916 non-null   object \n",
      " 12  num_voted_users            4916 non-null   int64  \n",
      " 13  cast_total_facebook_likes  4916 non-null   int64  \n",
      " 14  actor_3_name               4893 non-null   object \n",
      " 15  facenumber_in_poster       4903 non-null   float64\n",
      " 16  plot_keywords              4764 non-null   object \n",
      " 17  movie_imdb_link            4916 non-null   object \n",
      " 18  num_user_for_reviews       4895 non-null   float64\n",
      " 19  language                   4904 non-null   object \n",
      " 20  country                    4911 non-null   object \n",
      " 21  content_rating             4616 non-null   object \n",
      " 22  budget                     4432 non-null   float64\n",
      " 23  title_year                 4810 non-null   float64\n",
      " 24  actor_2_facebook_likes     4903 non-null   float64\n",
      " 25  imdb_score                 4916 non-null   float64\n",
      " 26  aspect_ratio               4590 non-null   float64\n",
      " 27  movie_facebook_likes       4916 non-null   int64  \n",
      "dtypes: float64(13), int64(3), object(12)\n",
      "memory usage: 1.1+ MB\n"
     ]
    }
   ],
   "source": [
    "# movie데이터 원본\n",
    "movie = pd.read_csv('data/movie.csv')\n",
    "movie.info()"
   ]
  },
  {
   "cell_type": "code",
   "execution_count": 3,
   "id": "8458307d-d897-41d9-a601-53a25bbf698f",
   "metadata": {},
   "outputs": [],
   "source": [
    "# 11개의 column 선택과 결측값 채우기\n",
    "movie1 = movie.iloc[:, :11].fillna(0)"
   ]
  },
  {
   "cell_type": "code",
   "execution_count": 4,
   "id": "1d57c152-a1fe-49ef-b394-2660562452b2",
   "metadata": {},
   "outputs": [
    {
     "name": "stdout",
     "output_type": "stream",
     "text": [
      "<class 'pandas.core.frame.DataFrame'>\n",
      "RangeIndex: 4916 entries, 0 to 4915\n",
      "Data columns (total 11 columns):\n",
      " #   Column                   Non-Null Count  Dtype  \n",
      "---  ------                   --------------  -----  \n",
      " 0   color                    4916 non-null   object \n",
      " 1   director_name            4916 non-null   object \n",
      " 2   num_critic_for_reviews   4916 non-null   float64\n",
      " 3   duration                 4916 non-null   float64\n",
      " 4   director_facebook_likes  4916 non-null   float64\n",
      " 5   actor_3_facebook_likes   4916 non-null   float64\n",
      " 6   actor_2_name             4916 non-null   object \n",
      " 7   actor_1_facebook_likes   4916 non-null   float64\n",
      " 8   gross                    4916 non-null   float64\n",
      " 9   genres                   4916 non-null   object \n",
      " 10  actor_1_name             4916 non-null   object \n",
      "dtypes: float64(6), object(5)\n",
      "memory usage: 422.6+ KB\n"
     ]
    }
   ],
   "source": [
    "movie1.info()"
   ]
  },
  {
   "cell_type": "code",
   "execution_count": 5,
   "id": "9668f9e4-d4f8-4641-aafb-77177ce98786",
   "metadata": {},
   "outputs": [
    {
     "data": {
      "text/html": [
       "<div>\n",
       "<style scoped>\n",
       "    .dataframe tbody tr th:only-of-type {\n",
       "        vertical-align: middle;\n",
       "    }\n",
       "\n",
       "    .dataframe tbody tr th {\n",
       "        vertical-align: top;\n",
       "    }\n",
       "\n",
       "    .dataframe thead th {\n",
       "        text-align: right;\n",
       "    }\n",
       "</style>\n",
       "<table border=\"1\" class=\"dataframe\">\n",
       "  <thead>\n",
       "    <tr style=\"text-align: right;\">\n",
       "      <th></th>\n",
       "      <th>count</th>\n",
       "      <th>mean</th>\n",
       "      <th>std</th>\n",
       "      <th>min</th>\n",
       "      <th>25%</th>\n",
       "      <th>50%</th>\n",
       "      <th>75%</th>\n",
       "      <th>max</th>\n",
       "    </tr>\n",
       "  </thead>\n",
       "  <tbody>\n",
       "    <tr>\n",
       "      <th>num_critic_for_reviews</th>\n",
       "      <td>4916.0</td>\n",
       "      <td>1.366135e+02</td>\n",
       "      <td>1.204214e+02</td>\n",
       "      <td>0.0</td>\n",
       "      <td>47.00</td>\n",
       "      <td>106.5</td>\n",
       "      <td>191.00</td>\n",
       "      <td>813.0</td>\n",
       "    </tr>\n",
       "    <tr>\n",
       "      <th>duration</th>\n",
       "      <td>4916.0</td>\n",
       "      <td>1.067640e+02</td>\n",
       "      <td>2.592923e+01</td>\n",
       "      <td>0.0</td>\n",
       "      <td>93.00</td>\n",
       "      <td>103.0</td>\n",
       "      <td>118.00</td>\n",
       "      <td>511.0</td>\n",
       "    </tr>\n",
       "    <tr>\n",
       "      <th>director_facebook_likes</th>\n",
       "      <td>4916.0</td>\n",
       "      <td>6.766770e+02</td>\n",
       "      <td>2.805134e+03</td>\n",
       "      <td>0.0</td>\n",
       "      <td>6.00</td>\n",
       "      <td>44.0</td>\n",
       "      <td>188.00</td>\n",
       "      <td>23000.0</td>\n",
       "    </tr>\n",
       "    <tr>\n",
       "      <th>actor_3_facebook_likes</th>\n",
       "      <td>4916.0</td>\n",
       "      <td>6.283228e+02</td>\n",
       "      <td>1.622638e+03</td>\n",
       "      <td>0.0</td>\n",
       "      <td>129.00</td>\n",
       "      <td>362.0</td>\n",
       "      <td>631.00</td>\n",
       "      <td>23000.0</td>\n",
       "    </tr>\n",
       "    <tr>\n",
       "      <th>actor_1_facebook_likes</th>\n",
       "      <td>4916.0</td>\n",
       "      <td>6.485241e+03</td>\n",
       "      <td>1.509821e+04</td>\n",
       "      <td>0.0</td>\n",
       "      <td>606.00</td>\n",
       "      <td>981.5</td>\n",
       "      <td>11000.00</td>\n",
       "      <td>640000.0</td>\n",
       "    </tr>\n",
       "    <tr>\n",
       "      <th>gross</th>\n",
       "      <td>4916.0</td>\n",
       "      <td>3.929025e+07</td>\n",
       "      <td>6.380675e+07</td>\n",
       "      <td>0.0</td>\n",
       "      <td>285641.25</td>\n",
       "      <td>14914785.0</td>\n",
       "      <td>50875351.25</td>\n",
       "      <td>760505847.0</td>\n",
       "    </tr>\n",
       "  </tbody>\n",
       "</table>\n",
       "</div>"
      ],
      "text/plain": [
       "                          count          mean           std  min        25%  \\\n",
       "num_critic_for_reviews   4916.0  1.366135e+02  1.204214e+02  0.0      47.00   \n",
       "duration                 4916.0  1.067640e+02  2.592923e+01  0.0      93.00   \n",
       "director_facebook_likes  4916.0  6.766770e+02  2.805134e+03  0.0       6.00   \n",
       "actor_3_facebook_likes   4916.0  6.283228e+02  1.622638e+03  0.0     129.00   \n",
       "actor_1_facebook_likes   4916.0  6.485241e+03  1.509821e+04  0.0     606.00   \n",
       "gross                    4916.0  3.929025e+07  6.380675e+07  0.0  285641.25   \n",
       "\n",
       "                                50%          75%          max  \n",
       "num_critic_for_reviews        106.5       191.00        813.0  \n",
       "duration                      103.0       118.00        511.0  \n",
       "director_facebook_likes        44.0       188.00      23000.0  \n",
       "actor_3_facebook_likes        362.0       631.00      23000.0  \n",
       "actor_1_facebook_likes        981.5     11000.00     640000.0  \n",
       "gross                    14914785.0  50875351.25  760505847.0  "
      ]
     },
     "execution_count": 5,
     "metadata": {},
     "output_type": "execute_result"
    }
   ],
   "source": [
    "movie1.describe().T"
   ]
  },
  {
   "cell_type": "code",
   "execution_count": 6,
   "id": "d071caa3-d50f-4e20-88c5-3ca41c9b46f2",
   "metadata": {},
   "outputs": [
    {
     "data": {
      "text/plain": [
       "Index                         128\n",
       "color                      306262\n",
       "director_name              343388\n",
       "num_critic_for_reviews      39328\n",
       "duration                    39328\n",
       "director_facebook_likes     39328\n",
       "actor_3_facebook_likes      39328\n",
       "actor_2_name               346635\n",
       "actor_1_facebook_likes      39328\n",
       "gross                       39328\n",
       "genres                     379929\n",
       "actor_1_name               346599\n",
       "dtype: int64"
      ]
     },
     "execution_count": 6,
     "metadata": {},
     "output_type": "execute_result"
    }
   ],
   "source": [
    "# memory_usage를 통해 메모리 사용량을 column별로 알 수 있다.\n",
    "movie1.memory_usage(deep=True)"
   ]
  },
  {
   "cell_type": "code",
   "execution_count": 7,
   "id": "09615223-ff7d-4574-89e3-ccdde7f4ffa9",
   "metadata": {},
   "outputs": [
    {
     "data": {
      "text/plain": [
       "finfo(resolution=0.001, min=-6.55040e+04, max=6.55040e+04, dtype=float16)"
      ]
     },
     "execution_count": 7,
     "metadata": {},
     "output_type": "execute_result"
    }
   ],
   "source": [
    "np.finfo('float16')"
   ]
  },
  {
   "cell_type": "code",
   "execution_count": 8,
   "id": "b5eaf799-97c5-472a-adb0-9b402ca8f283",
   "metadata": {},
   "outputs": [
    {
     "data": {
      "text/plain": [
       "finfo(resolution=1e-06, min=-3.4028235e+38, max=3.4028235e+38, dtype=float32)"
      ]
     },
     "execution_count": 8,
     "metadata": {},
     "output_type": "execute_result"
    }
   ],
   "source": [
    "np.finfo('float32')"
   ]
  },
  {
   "cell_type": "code",
   "execution_count": 9,
   "id": "f754683c-465b-4aaa-9476-a1f42167626a",
   "metadata": {},
   "outputs": [
    {
     "data": {
      "text/plain": [
       "finfo(resolution=1e-15, min=-1.7976931348623157e+308, max=1.7976931348623157e+308, dtype=float64)"
      ]
     },
     "execution_count": 9,
     "metadata": {},
     "output_type": "execute_result"
    }
   ],
   "source": [
    "np.finfo('float64')"
   ]
  },
  {
   "cell_type": "code",
   "execution_count": 10,
   "id": "7351add2-c7da-4f25-997a-0b69f94031a3",
   "metadata": {},
   "outputs": [
    {
     "data": {
      "text/plain": [
       "Index                         128\n",
       "color                      306262\n",
       "director_name              343388\n",
       "num_critic_for_reviews      39328\n",
       "duration                    39328\n",
       "director_facebook_likes     39328\n",
       "actor_3_facebook_likes      39328\n",
       "actor_2_name               346635\n",
       "actor_1_facebook_likes      39328\n",
       "gross                       39328\n",
       "genres                     379929\n",
       "actor_1_name               346599\n",
       "dtype: int64"
      ]
     },
     "execution_count": 10,
     "metadata": {},
     "output_type": "execute_result"
    }
   ],
   "source": [
    "movie1.memory_usage(deep=True)"
   ]
  },
  {
   "cell_type": "code",
   "execution_count": 11,
   "id": "430b9f08-1daf-4115-9b90-902311ec4f85",
   "metadata": {},
   "outputs": [
    {
     "data": {
      "text/plain": [
       "Index                         128\n",
       "color                      306262\n",
       "director_name              343388\n",
       "num_critic_for_reviews       9832\n",
       "duration                    39328\n",
       "director_facebook_likes     39328\n",
       "actor_3_facebook_likes      39328\n",
       "actor_2_name               346635\n",
       "actor_1_facebook_likes      39328\n",
       "gross                       39328\n",
       "genres                     379929\n",
       "actor_1_name               346599\n",
       "dtype: int64"
      ]
     },
     "execution_count": 11,
     "metadata": {},
     "output_type": "execute_result"
    }
   ],
   "source": [
    "#최대값이 813임으로 가장 작은 float16이 들어간다.\n",
    "movie1['num_critic_for_reviews'] = movie1['num_critic_for_reviews'].astype(np.float16)\n",
    "movie1.memory_usage(deep=True)"
   ]
  },
  {
   "cell_type": "code",
   "execution_count": 12,
   "id": "46e61e7a-b722-46ac-aeef-0584a0aee301",
   "metadata": {},
   "outputs": [
    {
     "name": "stdout",
     "output_type": "stream",
     "text": [
      "25.0 %\n"
     ]
    }
   ],
   "source": [
    "print(9832 / 39328 * 100, '%')"
   ]
  },
  {
   "cell_type": "markdown",
   "id": "8114e520-47f6-428f-83a0-0858702395c7",
   "metadata": {},
   "source": [
    "원래 데이터의 크기에 비해 25%로 줄어들었다."
   ]
  },
  {
   "cell_type": "code",
   "execution_count": 13,
   "id": "03a6fff3-116d-491a-ae2e-c282186427bf",
   "metadata": {},
   "outputs": [
    {
     "data": {
      "text/plain": [
       "Index                         128\n",
       "color                      306262\n",
       "director_name              343388\n",
       "num_critic_for_reviews       9832\n",
       "duration                     9832\n",
       "director_facebook_likes     39328\n",
       "actor_3_facebook_likes      39328\n",
       "actor_2_name               346635\n",
       "actor_1_facebook_likes      39328\n",
       "gross                       39328\n",
       "genres                     379929\n",
       "actor_1_name               346599\n",
       "dtype: int64"
      ]
     },
     "execution_count": 13,
     "metadata": {},
     "output_type": "execute_result"
    }
   ],
   "source": [
    "#최대값이 511임으로 가장 작은 float16이 들어간다.\n",
    "movie1['duration'] = movie1['duration'].astype(np.float16)\n",
    "movie1.memory_usage(deep=True)"
   ]
  },
  {
   "cell_type": "code",
   "execution_count": 14,
   "id": "f53d6328-5aef-4963-93a0-4d20754baf45",
   "metadata": {},
   "outputs": [
    {
     "name": "stdout",
     "output_type": "stream",
     "text": [
      "25.0 %\n"
     ]
    }
   ],
   "source": [
    "print(9832 / 39328 * 100, '%')"
   ]
  },
  {
   "cell_type": "markdown",
   "id": "d6f3f1bc-cc33-48a5-a59f-16377b4c09eb",
   "metadata": {},
   "source": [
    "원래 데이터의 크기에 비해 25%로 줄어들었다."
   ]
  },
  {
   "cell_type": "code",
   "execution_count": 15,
   "id": "873c2a26-28e7-4431-aeb2-6d7787b1e072",
   "metadata": {},
   "outputs": [
    {
     "data": {
      "text/plain": [
       "Index                         128\n",
       "color                      306262\n",
       "director_name              343388\n",
       "num_critic_for_reviews       9832\n",
       "duration                     9832\n",
       "director_facebook_likes      9832\n",
       "actor_3_facebook_likes      39328\n",
       "actor_2_name               346635\n",
       "actor_1_facebook_likes      39328\n",
       "gross                       39328\n",
       "genres                     379929\n",
       "actor_1_name               346599\n",
       "dtype: int64"
      ]
     },
     "execution_count": 15,
     "metadata": {},
     "output_type": "execute_result"
    }
   ],
   "source": [
    "#최대값이 23000임으로 가장 작은 float16이 들어간다.\n",
    "movie1['director_facebook_likes'] = movie1['director_facebook_likes'].astype(np.float16)\n",
    "movie1.memory_usage(deep=True)"
   ]
  },
  {
   "cell_type": "code",
   "execution_count": 16,
   "id": "81507236-c0ea-4f5e-af92-e1ef57cc8c08",
   "metadata": {},
   "outputs": [
    {
     "name": "stdout",
     "output_type": "stream",
     "text": [
      "25.0 %\n"
     ]
    }
   ],
   "source": [
    "print(9832 / 39328 * 100, '%')"
   ]
  },
  {
   "cell_type": "markdown",
   "id": "950c77ec-fc4c-4edd-809c-eb850bba2d37",
   "metadata": {},
   "source": [
    "원래 데이터의 크기에 비해 25%로 줄어들었다."
   ]
  },
  {
   "cell_type": "code",
   "execution_count": 17,
   "id": "fe8a2a1c-e050-4aa1-9486-13610d37eaec",
   "metadata": {},
   "outputs": [
    {
     "data": {
      "text/plain": [
       "Index                         128\n",
       "color                      306262\n",
       "director_name              343388\n",
       "num_critic_for_reviews       9832\n",
       "duration                     9832\n",
       "director_facebook_likes      9832\n",
       "actor_3_facebook_likes       9832\n",
       "actor_2_name               346635\n",
       "actor_1_facebook_likes      39328\n",
       "gross                       39328\n",
       "genres                     379929\n",
       "actor_1_name               346599\n",
       "dtype: int64"
      ]
     },
     "execution_count": 17,
     "metadata": {},
     "output_type": "execute_result"
    }
   ],
   "source": [
    "#최대값이 23000임으로 가장 작은 float16이 들어간다.\n",
    "movie1['actor_3_facebook_likes'] = movie1['actor_3_facebook_likes'].astype(np.float16)\n",
    "movie1.memory_usage(deep=True)"
   ]
  },
  {
   "cell_type": "code",
   "execution_count": 18,
   "id": "9b0d00c3-4ad1-4386-939e-e7a3c9c87877",
   "metadata": {},
   "outputs": [
    {
     "name": "stdout",
     "output_type": "stream",
     "text": [
      "25.0 %\n"
     ]
    }
   ],
   "source": [
    "print(9832 / 39328 * 100, '%')"
   ]
  },
  {
   "cell_type": "markdown",
   "id": "ed2ed16f-bb87-40bc-b910-77de11d801fd",
   "metadata": {},
   "source": [
    "원래 데이터의 크기에 비해 25%로 줄어들었다."
   ]
  },
  {
   "cell_type": "code",
   "execution_count": 19,
   "id": "0e5cd793-6072-4399-8532-e5d6e32efa75",
   "metadata": {},
   "outputs": [
    {
     "data": {
      "text/plain": [
       "Index                         128\n",
       "color                      306262\n",
       "director_name              343388\n",
       "num_critic_for_reviews       9832\n",
       "duration                     9832\n",
       "director_facebook_likes      9832\n",
       "actor_3_facebook_likes       9832\n",
       "actor_2_name               346635\n",
       "actor_1_facebook_likes      19664\n",
       "gross                       39328\n",
       "genres                     379929\n",
       "actor_1_name               346599\n",
       "dtype: int64"
      ]
     },
     "execution_count": 19,
     "metadata": {},
     "output_type": "execute_result"
    }
   ],
   "source": [
    "#최대값이 640000임으로 float32이 들어간다.\n",
    "movie1['actor_1_facebook_likes'] = movie1['actor_1_facebook_likes'].astype(np.float32)\n",
    "movie1.memory_usage(deep=True)"
   ]
  },
  {
   "cell_type": "code",
   "execution_count": 20,
   "id": "4a6ed540-5479-4944-8237-403fb654b215",
   "metadata": {},
   "outputs": [
    {
     "name": "stdout",
     "output_type": "stream",
     "text": [
      "50.0 %\n"
     ]
    }
   ],
   "source": [
    "print(19664 / 39328 * 100, '%')"
   ]
  },
  {
   "cell_type": "markdown",
   "id": "c9cc887f-7857-4efd-8015-7eca67eb87d5",
   "metadata": {},
   "source": [
    "원래 데이터의 크기에 비해 50%로 줄어들었다."
   ]
  },
  {
   "cell_type": "code",
   "execution_count": 21,
   "id": "3cdef1b0-fdbe-44b9-89da-a61e72448372",
   "metadata": {},
   "outputs": [
    {
     "data": {
      "text/plain": [
       "Index                         128\n",
       "color                      306262\n",
       "director_name              343388\n",
       "num_critic_for_reviews       9832\n",
       "duration                     9832\n",
       "director_facebook_likes      9832\n",
       "actor_3_facebook_likes       9832\n",
       "actor_2_name               346635\n",
       "actor_1_facebook_likes      19664\n",
       "gross                       19664\n",
       "genres                     379929\n",
       "actor_1_name               346599\n",
       "dtype: int64"
      ]
     },
     "execution_count": 21,
     "metadata": {},
     "output_type": "execute_result"
    }
   ],
   "source": [
    "#최대값이 760505847임으로 float32이 들어간다.\n",
    "movie1['gross'] = movie1['gross'].astype(np.float32)\n",
    "movie1.memory_usage(deep=True)"
   ]
  },
  {
   "cell_type": "code",
   "execution_count": 22,
   "id": "03373aa5-557f-41c5-9245-d9baa6c7ac26",
   "metadata": {},
   "outputs": [
    {
     "name": "stdout",
     "output_type": "stream",
     "text": [
      "50.0 %\n"
     ]
    }
   ],
   "source": [
    "print(19664 / 39328 * 100, '%')"
   ]
  },
  {
   "cell_type": "markdown",
   "id": "df2f5104-65fb-4e2b-a528-3cbc694873cf",
   "metadata": {},
   "source": [
    "원래 데이터의 크기에 비해 50%로 줄어들었다."
   ]
  },
  {
   "cell_type": "code",
   "execution_count": 23,
   "id": "5f326adb-873b-4ede-9e74-d437cb66c2ae",
   "metadata": {},
   "outputs": [
    {
     "data": {
      "text/html": [
       "<div>\n",
       "<style scoped>\n",
       "    .dataframe tbody tr th:only-of-type {\n",
       "        vertical-align: middle;\n",
       "    }\n",
       "\n",
       "    .dataframe tbody tr th {\n",
       "        vertical-align: top;\n",
       "    }\n",
       "\n",
       "    .dataframe thead th {\n",
       "        text-align: right;\n",
       "    }\n",
       "</style>\n",
       "<table border=\"1\" class=\"dataframe\">\n",
       "  <thead>\n",
       "    <tr style=\"text-align: right;\">\n",
       "      <th></th>\n",
       "      <th>count</th>\n",
       "      <th>unique</th>\n",
       "      <th>top</th>\n",
       "      <th>freq</th>\n",
       "    </tr>\n",
       "  </thead>\n",
       "  <tbody>\n",
       "    <tr>\n",
       "      <th>color</th>\n",
       "      <td>4916</td>\n",
       "      <td>3</td>\n",
       "      <td>Color</td>\n",
       "      <td>4693</td>\n",
       "    </tr>\n",
       "    <tr>\n",
       "      <th>director_name</th>\n",
       "      <td>4916</td>\n",
       "      <td>2398</td>\n",
       "      <td>0</td>\n",
       "      <td>102</td>\n",
       "    </tr>\n",
       "    <tr>\n",
       "      <th>actor_2_name</th>\n",
       "      <td>4916</td>\n",
       "      <td>3031</td>\n",
       "      <td>Morgan Freeman</td>\n",
       "      <td>18</td>\n",
       "    </tr>\n",
       "    <tr>\n",
       "      <th>genres</th>\n",
       "      <td>4916</td>\n",
       "      <td>914</td>\n",
       "      <td>Drama</td>\n",
       "      <td>233</td>\n",
       "    </tr>\n",
       "    <tr>\n",
       "      <th>actor_1_name</th>\n",
       "      <td>4916</td>\n",
       "      <td>2096</td>\n",
       "      <td>Robert De Niro</td>\n",
       "      <td>48</td>\n",
       "    </tr>\n",
       "  </tbody>\n",
       "</table>\n",
       "</div>"
      ],
      "text/plain": [
       "              count unique             top  freq\n",
       "color          4916      3           Color  4693\n",
       "director_name  4916   2398               0   102\n",
       "actor_2_name   4916   3031  Morgan Freeman    18\n",
       "genres         4916    914           Drama   233\n",
       "actor_1_name   4916   2096  Robert De Niro    48"
      ]
     },
     "execution_count": 23,
     "metadata": {},
     "output_type": "execute_result"
    }
   ],
   "source": [
    "movie1.describe(include=['object']).T"
   ]
  },
  {
   "cell_type": "code",
   "execution_count": 24,
   "id": "4a607cb8-b5db-4ac4-b89c-8a7450935312",
   "metadata": {
    "tags": []
   },
   "outputs": [
    {
     "data": {
      "text/plain": [
       "color               3\n",
       "director_name    2398\n",
       "actor_2_name     3031\n",
       "genres            914\n",
       "actor_1_name     2096\n",
       "dtype: int64"
      ]
     },
     "execution_count": 24,
     "metadata": {},
     "output_type": "execute_result"
    }
   ],
   "source": [
    "movie1.select_dtypes(include=['object']).nunique()"
   ]
  },
  {
   "cell_type": "markdown",
   "id": "cad45ec0-f9ea-4e11-a320-e0f8bacc80e2",
   "metadata": {},
   "source": [
    "위의 두 개의 함수를 통해 object들의 unique값을 알 수 있다."
   ]
  },
  {
   "cell_type": "markdown",
   "id": "872ad09d-4877-4bcc-ad37-d54e32dbc9c4",
   "metadata": {},
   "source": [
    "총 데이터의 수와 unique의 값이 비슷하면 category로 변환하는 것이 큰 의미가 없다.\n",
    "\n",
    "그렇기 때문에 count가 4916인데 비해 작은 color(3) 정도가 유효할 것이라고 생각하고 진행해 보았다."
   ]
  },
  {
   "cell_type": "code",
   "execution_count": 25,
   "id": "31aee095-55a0-421c-922d-96f01de365f6",
   "metadata": {},
   "outputs": [
    {
     "data": {
      "text/plain": [
       "Index                         128\n",
       "color                        5190\n",
       "director_name              343388\n",
       "num_critic_for_reviews       9832\n",
       "duration                     9832\n",
       "director_facebook_likes      9832\n",
       "actor_3_facebook_likes       9832\n",
       "actor_2_name               346635\n",
       "actor_1_facebook_likes      19664\n",
       "gross                       19664\n",
       "genres                     379929\n",
       "actor_1_name               346599\n",
       "dtype: int64"
      ]
     },
     "execution_count": 25,
     "metadata": {},
     "output_type": "execute_result"
    }
   ],
   "source": [
    "movie1['color'] = movie1['color'].astype('category')\n",
    "movie1.memory_usage(deep=True)"
   ]
  },
  {
   "cell_type": "code",
   "execution_count": 26,
   "id": "48a26596-9a40-4bc5-8af7-0b3dda3aae36",
   "metadata": {},
   "outputs": [
    {
     "name": "stdout",
     "output_type": "stream",
     "text": [
      "1.6946274758213555 %\n"
     ]
    }
   ],
   "source": [
    "print(5190 / 306262 * 100, '%')"
   ]
  },
  {
   "cell_type": "markdown",
   "id": "00c864a9-0533-4214-ba6b-e27299a281bd",
   "metadata": {},
   "source": [
    "원래 데이터 크기에 비해 1.69%로 줄어들었다.\n",
    "\n",
    "이렇게 데이터 타입을 바꾸어 데이터 손실 없이 데이터를 줄일 수 있다."
   ]
  },
  {
   "cell_type": "code",
   "execution_count": 27,
   "id": "9bc869e0-dfaf-48b0-b2eb-a01d654c139e",
   "metadata": {},
   "outputs": [
    {
     "data": {
      "text/plain": [
       "Index                         128\n",
       "color                        5190\n",
       "director_name              343388\n",
       "num_critic_for_reviews       9832\n",
       "duration                     9832\n",
       "director_facebook_likes      9832\n",
       "actor_3_facebook_likes       9832\n",
       "actor_2_name               346635\n",
       "actor_1_facebook_likes      19664\n",
       "gross                       19664\n",
       "genres                     121102\n",
       "actor_1_name               346599\n",
       "dtype: int64"
      ]
     },
     "execution_count": 27,
     "metadata": {},
     "output_type": "execute_result"
    }
   ],
   "source": [
    "movie1['genres'] = movie1['genres'].astype('category')\n",
    "movie1.memory_usage(deep=True)"
   ]
  },
  {
   "cell_type": "code",
   "execution_count": 28,
   "id": "a2bd3d16-1002-4b55-a240-82225d82a10b",
   "metadata": {},
   "outputs": [
    {
     "name": "stdout",
     "output_type": "stream",
     "text": [
      "31.87490294239187 %\n"
     ]
    }
   ],
   "source": [
    "print(121102 / 379929 * 100, '%')"
   ]
  },
  {
   "cell_type": "code",
   "execution_count": 29,
   "id": "472e0f38-328b-4cda-921f-9885eee6dc27",
   "metadata": {},
   "outputs": [
    {
     "data": {
      "text/plain": [
       "Index                         128\n",
       "color                        5190\n",
       "director_name              245814\n",
       "num_critic_for_reviews       9832\n",
       "duration                     9832\n",
       "director_facebook_likes      9832\n",
       "actor_3_facebook_likes       9832\n",
       "actor_2_name               346635\n",
       "actor_1_facebook_likes      19664\n",
       "gross                       19664\n",
       "genres                     121102\n",
       "actor_1_name               346599\n",
       "dtype: int64"
      ]
     },
     "execution_count": 29,
     "metadata": {},
     "output_type": "execute_result"
    }
   ],
   "source": [
    "movie1['director_name'] = movie1['director_name'].astype('category')\n",
    "movie1.memory_usage(deep=True)"
   ]
  },
  {
   "cell_type": "code",
   "execution_count": 30,
   "id": "e8f6e148-84dd-422e-a9bc-9932ed065f29",
   "metadata": {},
   "outputs": [
    {
     "name": "stdout",
     "output_type": "stream",
     "text": [
      "71.58491269351288 %\n"
     ]
    }
   ],
   "source": [
    "print(245814 / 343388 * 100, '%')"
   ]
  },
  {
   "cell_type": "code",
   "execution_count": 31,
   "id": "de2f6a43-14ca-4661-a6ef-29d57863f760",
   "metadata": {},
   "outputs": [
    {
     "data": {
      "text/plain": [
       "Index                         128\n",
       "color                        5190\n",
       "director_name              245814\n",
       "num_critic_for_reviews       9832\n",
       "duration                     9832\n",
       "director_facebook_likes      9832\n",
       "actor_3_facebook_likes       9832\n",
       "actor_2_name               290652\n",
       "actor_1_facebook_likes      19664\n",
       "gross                       19664\n",
       "genres                     121102\n",
       "actor_1_name               346599\n",
       "dtype: int64"
      ]
     },
     "execution_count": 31,
     "metadata": {},
     "output_type": "execute_result"
    }
   ],
   "source": [
    "movie1['actor_2_name'] = movie1['actor_2_name'].astype('category')\n",
    "movie1.memory_usage(deep=True)"
   ]
  },
  {
   "cell_type": "code",
   "execution_count": 32,
   "id": "9b6044aa-ae1e-4cac-a8ea-c713bd1d27a1",
   "metadata": {},
   "outputs": [
    {
     "name": "stdout",
     "output_type": "stream",
     "text": [
      "83.84958241377818 %\n"
     ]
    }
   ],
   "source": [
    "print(290652 / 346635 * 100, '%')"
   ]
  },
  {
   "cell_type": "code",
   "execution_count": 33,
   "id": "79dfd7ed-6de1-4925-ba71-91c1f805fb8e",
   "metadata": {},
   "outputs": [
    {
     "data": {
      "text/plain": [
       "Index                         128\n",
       "color                        5190\n",
       "director_name              245814\n",
       "num_critic_for_reviews       9832\n",
       "duration                     9832\n",
       "director_facebook_likes      9832\n",
       "actor_3_facebook_likes       9832\n",
       "actor_2_name               290652\n",
       "actor_1_facebook_likes      19664\n",
       "gross                       19664\n",
       "genres                     121102\n",
       "actor_1_name               224147\n",
       "dtype: int64"
      ]
     },
     "execution_count": 33,
     "metadata": {},
     "output_type": "execute_result"
    }
   ],
   "source": [
    "movie1['actor_1_name'] = movie1['actor_1_name'].astype('category')\n",
    "movie1.memory_usage(deep=True)"
   ]
  },
  {
   "cell_type": "code",
   "execution_count": 34,
   "id": "94a6923f-4312-4a0d-961b-9d3581a0d30c",
   "metadata": {},
   "outputs": [
    {
     "name": "stdout",
     "output_type": "stream",
     "text": [
      "64.67041162842364 %\n"
     ]
    }
   ],
   "source": [
    "print(224147 / 346599 * 100, '%')"
   ]
  },
  {
   "cell_type": "markdown",
   "id": "a3bc6967-8271-4fdd-b306-fb2a2ffcbb17",
   "metadata": {},
   "source": [
    "앞서 설명한 것과 같이 color를 제외한 genres, director_name, actor_2_name, actor_1_name는 unique값이 너무 커 category화 하여도 데이터가 늘어날 것이라 생각했는데 결과적으로는 줄어들었다."
   ]
  },
  {
   "cell_type": "markdown",
   "id": "8db8295f-a520-4c6b-8161-66808666ec29",
   "metadata": {},
   "source": [
    "## 2. college 에서 UGDS 의 최대값을 구하는데 도시별로.\n",
    "> INSTNM, CITY, UGDS"
   ]
  },
  {
   "cell_type": "code",
   "execution_count": 35,
   "id": "df0d2686-30bb-4f51-b5cd-62d6f549a0c5",
   "metadata": {},
   "outputs": [
    {
     "data": {
      "text/html": [
       "<div>\n",
       "<style scoped>\n",
       "    .dataframe tbody tr th:only-of-type {\n",
       "        vertical-align: middle;\n",
       "    }\n",
       "\n",
       "    .dataframe tbody tr th {\n",
       "        vertical-align: top;\n",
       "    }\n",
       "\n",
       "    .dataframe thead th {\n",
       "        text-align: right;\n",
       "    }\n",
       "</style>\n",
       "<table border=\"1\" class=\"dataframe\">\n",
       "  <thead>\n",
       "    <tr style=\"text-align: right;\">\n",
       "      <th></th>\n",
       "      <th>INSTNM</th>\n",
       "      <th>CITY</th>\n",
       "      <th>STABBR</th>\n",
       "      <th>HBCU</th>\n",
       "      <th>MENONLY</th>\n",
       "      <th>WOMENONLY</th>\n",
       "      <th>RELAFFIL</th>\n",
       "      <th>SATVRMID</th>\n",
       "      <th>SATMTMID</th>\n",
       "      <th>DISTANCEONLY</th>\n",
       "      <th>...</th>\n",
       "      <th>UGDS_2MOR</th>\n",
       "      <th>UGDS_NRA</th>\n",
       "      <th>UGDS_UNKN</th>\n",
       "      <th>PPTUG_EF</th>\n",
       "      <th>CURROPER</th>\n",
       "      <th>PCTPELL</th>\n",
       "      <th>PCTFLOAN</th>\n",
       "      <th>UG25ABV</th>\n",
       "      <th>MD_EARN_WNE_P10</th>\n",
       "      <th>GRAD_DEBT_MDN_SUPP</th>\n",
       "    </tr>\n",
       "  </thead>\n",
       "  <tbody>\n",
       "    <tr>\n",
       "      <th>0</th>\n",
       "      <td>Alabama A &amp; M University</td>\n",
       "      <td>Normal</td>\n",
       "      <td>AL</td>\n",
       "      <td>1.0</td>\n",
       "      <td>0.0</td>\n",
       "      <td>0.0</td>\n",
       "      <td>0</td>\n",
       "      <td>424.0</td>\n",
       "      <td>420.0</td>\n",
       "      <td>0.0</td>\n",
       "      <td>...</td>\n",
       "      <td>0.0000</td>\n",
       "      <td>0.0059</td>\n",
       "      <td>0.0138</td>\n",
       "      <td>0.0656</td>\n",
       "      <td>1</td>\n",
       "      <td>0.7356</td>\n",
       "      <td>0.8284</td>\n",
       "      <td>0.1049</td>\n",
       "      <td>30300</td>\n",
       "      <td>33888</td>\n",
       "    </tr>\n",
       "    <tr>\n",
       "      <th>1</th>\n",
       "      <td>University of Alabama at Birmingham</td>\n",
       "      <td>Birmingham</td>\n",
       "      <td>AL</td>\n",
       "      <td>0.0</td>\n",
       "      <td>0.0</td>\n",
       "      <td>0.0</td>\n",
       "      <td>0</td>\n",
       "      <td>570.0</td>\n",
       "      <td>565.0</td>\n",
       "      <td>0.0</td>\n",
       "      <td>...</td>\n",
       "      <td>0.0368</td>\n",
       "      <td>0.0179</td>\n",
       "      <td>0.0100</td>\n",
       "      <td>0.2607</td>\n",
       "      <td>1</td>\n",
       "      <td>0.3460</td>\n",
       "      <td>0.5214</td>\n",
       "      <td>0.2422</td>\n",
       "      <td>39700</td>\n",
       "      <td>21941.5</td>\n",
       "    </tr>\n",
       "    <tr>\n",
       "      <th>2</th>\n",
       "      <td>Amridge University</td>\n",
       "      <td>Montgomery</td>\n",
       "      <td>AL</td>\n",
       "      <td>0.0</td>\n",
       "      <td>0.0</td>\n",
       "      <td>0.0</td>\n",
       "      <td>1</td>\n",
       "      <td>NaN</td>\n",
       "      <td>NaN</td>\n",
       "      <td>1.0</td>\n",
       "      <td>...</td>\n",
       "      <td>0.0000</td>\n",
       "      <td>0.0000</td>\n",
       "      <td>0.2715</td>\n",
       "      <td>0.4536</td>\n",
       "      <td>1</td>\n",
       "      <td>0.6801</td>\n",
       "      <td>0.7795</td>\n",
       "      <td>0.8540</td>\n",
       "      <td>40100</td>\n",
       "      <td>23370</td>\n",
       "    </tr>\n",
       "    <tr>\n",
       "      <th>3</th>\n",
       "      <td>University of Alabama in Huntsville</td>\n",
       "      <td>Huntsville</td>\n",
       "      <td>AL</td>\n",
       "      <td>0.0</td>\n",
       "      <td>0.0</td>\n",
       "      <td>0.0</td>\n",
       "      <td>0</td>\n",
       "      <td>595.0</td>\n",
       "      <td>590.0</td>\n",
       "      <td>0.0</td>\n",
       "      <td>...</td>\n",
       "      <td>0.0172</td>\n",
       "      <td>0.0332</td>\n",
       "      <td>0.0350</td>\n",
       "      <td>0.2146</td>\n",
       "      <td>1</td>\n",
       "      <td>0.3072</td>\n",
       "      <td>0.4596</td>\n",
       "      <td>0.2640</td>\n",
       "      <td>45500</td>\n",
       "      <td>24097</td>\n",
       "    </tr>\n",
       "    <tr>\n",
       "      <th>4</th>\n",
       "      <td>Alabama State University</td>\n",
       "      <td>Montgomery</td>\n",
       "      <td>AL</td>\n",
       "      <td>1.0</td>\n",
       "      <td>0.0</td>\n",
       "      <td>0.0</td>\n",
       "      <td>0</td>\n",
       "      <td>425.0</td>\n",
       "      <td>430.0</td>\n",
       "      <td>0.0</td>\n",
       "      <td>...</td>\n",
       "      <td>0.0098</td>\n",
       "      <td>0.0243</td>\n",
       "      <td>0.0137</td>\n",
       "      <td>0.0892</td>\n",
       "      <td>1</td>\n",
       "      <td>0.7347</td>\n",
       "      <td>0.7554</td>\n",
       "      <td>0.1270</td>\n",
       "      <td>26600</td>\n",
       "      <td>33118.5</td>\n",
       "    </tr>\n",
       "  </tbody>\n",
       "</table>\n",
       "<p>5 rows × 27 columns</p>\n",
       "</div>"
      ],
      "text/plain": [
       "                                INSTNM        CITY STABBR  HBCU  MENONLY  \\\n",
       "0             Alabama A & M University      Normal     AL   1.0      0.0   \n",
       "1  University of Alabama at Birmingham  Birmingham     AL   0.0      0.0   \n",
       "2                   Amridge University  Montgomery     AL   0.0      0.0   \n",
       "3  University of Alabama in Huntsville  Huntsville     AL   0.0      0.0   \n",
       "4             Alabama State University  Montgomery     AL   1.0      0.0   \n",
       "\n",
       "   WOMENONLY  RELAFFIL  SATVRMID  SATMTMID  DISTANCEONLY  ...  UGDS_2MOR  \\\n",
       "0        0.0         0     424.0     420.0           0.0  ...     0.0000   \n",
       "1        0.0         0     570.0     565.0           0.0  ...     0.0368   \n",
       "2        0.0         1       NaN       NaN           1.0  ...     0.0000   \n",
       "3        0.0         0     595.0     590.0           0.0  ...     0.0172   \n",
       "4        0.0         0     425.0     430.0           0.0  ...     0.0098   \n",
       "\n",
       "   UGDS_NRA  UGDS_UNKN  PPTUG_EF  CURROPER  PCTPELL  PCTFLOAN  UG25ABV  \\\n",
       "0    0.0059     0.0138    0.0656         1   0.7356    0.8284   0.1049   \n",
       "1    0.0179     0.0100    0.2607         1   0.3460    0.5214   0.2422   \n",
       "2    0.0000     0.2715    0.4536         1   0.6801    0.7795   0.8540   \n",
       "3    0.0332     0.0350    0.2146         1   0.3072    0.4596   0.2640   \n",
       "4    0.0243     0.0137    0.0892         1   0.7347    0.7554   0.1270   \n",
       "\n",
       "   MD_EARN_WNE_P10  GRAD_DEBT_MDN_SUPP  \n",
       "0            30300               33888  \n",
       "1            39700             21941.5  \n",
       "2            40100               23370  \n",
       "3            45500               24097  \n",
       "4            26600             33118.5  \n",
       "\n",
       "[5 rows x 27 columns]"
      ]
     },
     "execution_count": 35,
     "metadata": {},
     "output_type": "execute_result"
    }
   ],
   "source": [
    "#college데이터\n",
    "college = pd.read_csv('data/college.csv')\n",
    "college.head()"
   ]
  },
  {
   "cell_type": "code",
   "execution_count": 36,
   "id": "2d92b1f3-419e-488e-9325-c2b2f9b74229",
   "metadata": {},
   "outputs": [
    {
     "data": {
      "text/html": [
       "<div>\n",
       "<style scoped>\n",
       "    .dataframe tbody tr th:only-of-type {\n",
       "        vertical-align: middle;\n",
       "    }\n",
       "\n",
       "    .dataframe tbody tr th {\n",
       "        vertical-align: top;\n",
       "    }\n",
       "\n",
       "    .dataframe thead th {\n",
       "        text-align: right;\n",
       "    }\n",
       "</style>\n",
       "<table border=\"1\" class=\"dataframe\">\n",
       "  <thead>\n",
       "    <tr style=\"text-align: right;\">\n",
       "      <th></th>\n",
       "      <th>INSTNM</th>\n",
       "      <th>CITY</th>\n",
       "      <th>UGDS</th>\n",
       "    </tr>\n",
       "  </thead>\n",
       "  <tbody>\n",
       "    <tr>\n",
       "      <th>7116</th>\n",
       "      <td>University of Phoenix-Arizona</td>\n",
       "      <td>Tempe</td>\n",
       "      <td>151558.0</td>\n",
       "    </tr>\n",
       "    <tr>\n",
       "      <th>1189</th>\n",
       "      <td>Ivy Tech Community College</td>\n",
       "      <td>Indianapolis</td>\n",
       "      <td>77657.0</td>\n",
       "    </tr>\n",
       "    <tr>\n",
       "      <th>793</th>\n",
       "      <td>Miami Dade College</td>\n",
       "      <td>Miami</td>\n",
       "      <td>61470.0</td>\n",
       "    </tr>\n",
       "    <tr>\n",
       "      <th>3711</th>\n",
       "      <td>Lone Star College System</td>\n",
       "      <td>The Woodlands</td>\n",
       "      <td>59920.0</td>\n",
       "    </tr>\n",
       "    <tr>\n",
       "      <th>3669</th>\n",
       "      <td>Houston Community College</td>\n",
       "      <td>Houston</td>\n",
       "      <td>58084.0</td>\n",
       "    </tr>\n",
       "    <tr>\n",
       "      <th>...</th>\n",
       "      <td>...</td>\n",
       "      <td>...</td>\n",
       "      <td>...</td>\n",
       "    </tr>\n",
       "    <tr>\n",
       "      <th>7530</th>\n",
       "      <td>SAE Institute of Technology  San Francisco</td>\n",
       "      <td>Emeryville</td>\n",
       "      <td>NaN</td>\n",
       "    </tr>\n",
       "    <tr>\n",
       "      <th>7531</th>\n",
       "      <td>Rasmussen College - Overland Park</td>\n",
       "      <td>Overland Park</td>\n",
       "      <td>NaN</td>\n",
       "    </tr>\n",
       "    <tr>\n",
       "      <th>7532</th>\n",
       "      <td>National Personal Training Institute of Cleveland</td>\n",
       "      <td>Highland Heights</td>\n",
       "      <td>NaN</td>\n",
       "    </tr>\n",
       "    <tr>\n",
       "      <th>7533</th>\n",
       "      <td>Bay Area Medical Academy - San Jose Satellite ...</td>\n",
       "      <td>San Jose</td>\n",
       "      <td>NaN</td>\n",
       "    </tr>\n",
       "    <tr>\n",
       "      <th>7534</th>\n",
       "      <td>Excel Learning Center-San Antonio South</td>\n",
       "      <td>San Antonio</td>\n",
       "      <td>NaN</td>\n",
       "    </tr>\n",
       "  </tbody>\n",
       "</table>\n",
       "<p>7535 rows × 3 columns</p>\n",
       "</div>"
      ],
      "text/plain": [
       "                                                 INSTNM              CITY  \\\n",
       "7116                      University of Phoenix-Arizona             Tempe   \n",
       "1189                         Ivy Tech Community College      Indianapolis   \n",
       "793                                  Miami Dade College             Miami   \n",
       "3711                           Lone Star College System     The Woodlands   \n",
       "3669                          Houston Community College           Houston   \n",
       "...                                                 ...               ...   \n",
       "7530         SAE Institute of Technology  San Francisco        Emeryville   \n",
       "7531                  Rasmussen College - Overland Park     Overland Park   \n",
       "7532  National Personal Training Institute of Cleveland  Highland Heights   \n",
       "7533  Bay Area Medical Academy - San Jose Satellite ...          San Jose   \n",
       "7534            Excel Learning Center-San Antonio South       San Antonio   \n",
       "\n",
       "          UGDS  \n",
       "7116  151558.0  \n",
       "1189   77657.0  \n",
       "793    61470.0  \n",
       "3711   59920.0  \n",
       "3669   58084.0  \n",
       "...        ...  \n",
       "7530       NaN  \n",
       "7531       NaN  \n",
       "7532       NaN  \n",
       "7533       NaN  \n",
       "7534       NaN  \n",
       "\n",
       "[7535 rows x 3 columns]"
      ]
     },
     "execution_count": 36,
     "metadata": {},
     "output_type": "execute_result"
    }
   ],
   "source": [
    "#sort_values를 사용한 방법\n",
    "(\n",
    "    college[['INSTNM', 'CITY', 'UGDS']]\n",
    "    .sort_values('UGDS', ascending=False)\n",
    ")"
   ]
  },
  {
   "cell_type": "markdown",
   "id": "0357d24e-1969-43a7-8fe5-f25286ff0dd1",
   "metadata": {},
   "source": [
    "INSTNM, CITY, UGDS 3가지 컬럼에 대해서 UGDS의 최대값을 기준으로 정렬했다."
   ]
  },
  {
   "cell_type": "code",
   "execution_count": 37,
   "id": "7349c212-4113-4a82-a4ad-e480f2602bdc",
   "metadata": {},
   "outputs": [
    {
     "data": {
      "text/html": [
       "<div>\n",
       "<style scoped>\n",
       "    .dataframe tbody tr th:only-of-type {\n",
       "        vertical-align: middle;\n",
       "    }\n",
       "\n",
       "    .dataframe tbody tr th {\n",
       "        vertical-align: top;\n",
       "    }\n",
       "\n",
       "    .dataframe thead th {\n",
       "        text-align: right;\n",
       "    }\n",
       "</style>\n",
       "<table border=\"1\" class=\"dataframe\">\n",
       "  <thead>\n",
       "    <tr style=\"text-align: right;\">\n",
       "      <th></th>\n",
       "      <th>INSTNM</th>\n",
       "      <th>CITY</th>\n",
       "      <th>UGDS</th>\n",
       "    </tr>\n",
       "  </thead>\n",
       "  <tbody>\n",
       "    <tr>\n",
       "      <th>7116</th>\n",
       "      <td>University of Phoenix-Arizona</td>\n",
       "      <td>Tempe</td>\n",
       "      <td>151558.0</td>\n",
       "    </tr>\n",
       "    <tr>\n",
       "      <th>1189</th>\n",
       "      <td>Ivy Tech Community College</td>\n",
       "      <td>Indianapolis</td>\n",
       "      <td>77657.0</td>\n",
       "    </tr>\n",
       "    <tr>\n",
       "      <th>793</th>\n",
       "      <td>Miami Dade College</td>\n",
       "      <td>Miami</td>\n",
       "      <td>61470.0</td>\n",
       "    </tr>\n",
       "    <tr>\n",
       "      <th>3711</th>\n",
       "      <td>Lone Star College System</td>\n",
       "      <td>The Woodlands</td>\n",
       "      <td>59920.0</td>\n",
       "    </tr>\n",
       "    <tr>\n",
       "      <th>3669</th>\n",
       "      <td>Houston Community College</td>\n",
       "      <td>Houston</td>\n",
       "      <td>58084.0</td>\n",
       "    </tr>\n",
       "    <tr>\n",
       "      <th>...</th>\n",
       "      <td>...</td>\n",
       "      <td>...</td>\n",
       "      <td>...</td>\n",
       "    </tr>\n",
       "    <tr>\n",
       "      <th>7469</th>\n",
       "      <td>Strayer University-Warrendale Campus</td>\n",
       "      <td>Warrendale</td>\n",
       "      <td>NaN</td>\n",
       "    </tr>\n",
       "    <tr>\n",
       "      <th>7479</th>\n",
       "      <td>Rasmussen College-Mokena/Tinley Park</td>\n",
       "      <td>Mokena</td>\n",
       "      <td>NaN</td>\n",
       "    </tr>\n",
       "    <tr>\n",
       "      <th>7485</th>\n",
       "      <td>Strayer University-Palm Beach Gardens Campus</td>\n",
       "      <td>Palm Beach Gardens</td>\n",
       "      <td>NaN</td>\n",
       "    </tr>\n",
       "    <tr>\n",
       "      <th>7486</th>\n",
       "      <td>Strayer University-Coral Springs Campus</td>\n",
       "      <td>Coral Springs</td>\n",
       "      <td>NaN</td>\n",
       "    </tr>\n",
       "    <tr>\n",
       "      <th>7504</th>\n",
       "      <td>Strayer University-Willingboro Campus</td>\n",
       "      <td>Willingboro</td>\n",
       "      <td>NaN</td>\n",
       "    </tr>\n",
       "  </tbody>\n",
       "</table>\n",
       "<p>2514 rows × 3 columns</p>\n",
       "</div>"
      ],
      "text/plain": [
       "                                            INSTNM                CITY  \\\n",
       "7116                 University of Phoenix-Arizona               Tempe   \n",
       "1189                    Ivy Tech Community College        Indianapolis   \n",
       "793                             Miami Dade College               Miami   \n",
       "3711                      Lone Star College System       The Woodlands   \n",
       "3669                     Houston Community College             Houston   \n",
       "...                                            ...                 ...   \n",
       "7469          Strayer University-Warrendale Campus          Warrendale   \n",
       "7479          Rasmussen College-Mokena/Tinley Park              Mokena   \n",
       "7485  Strayer University-Palm Beach Gardens Campus  Palm Beach Gardens   \n",
       "7486       Strayer University-Coral Springs Campus       Coral Springs   \n",
       "7504         Strayer University-Willingboro Campus         Willingboro   \n",
       "\n",
       "          UGDS  \n",
       "7116  151558.0  \n",
       "1189   77657.0  \n",
       "793    61470.0  \n",
       "3711   59920.0  \n",
       "3669   58084.0  \n",
       "...        ...  \n",
       "7469       NaN  \n",
       "7479       NaN  \n",
       "7485       NaN  \n",
       "7486       NaN  \n",
       "7504       NaN  \n",
       "\n",
       "[2514 rows x 3 columns]"
      ]
     },
     "execution_count": 37,
     "metadata": {},
     "output_type": "execute_result"
    }
   ],
   "source": [
    "(\n",
    "    college[['INSTNM', 'CITY', 'UGDS']]\n",
    "    .sort_values('UGDS', ascending=False)\n",
    "    .drop_duplicates(subset='CITY')\n",
    ")"
   ]
  },
  {
   "cell_type": "markdown",
   "id": "6f17f850-3e5c-4df9-af0b-c544909beb25",
   "metadata": {},
   "source": [
    ".drop_duplicates(subset='CITY')을 통해 CITY를 기준으로 중복을 지워주어 CITY를 그룹으로 만들어 CITY별로 최대값을 만들었다."
   ]
  },
  {
   "cell_type": "code",
   "execution_count": 38,
   "id": "0b676876-2a85-42b8-b5ec-d7fd6c3d4f57",
   "metadata": {},
   "outputs": [
    {
     "data": {
      "text/html": [
       "<div>\n",
       "<style scoped>\n",
       "    .dataframe tbody tr th:only-of-type {\n",
       "        vertical-align: middle;\n",
       "    }\n",
       "\n",
       "    .dataframe tbody tr th {\n",
       "        vertical-align: top;\n",
       "    }\n",
       "\n",
       "    .dataframe thead th {\n",
       "        text-align: right;\n",
       "    }\n",
       "</style>\n",
       "<table border=\"1\" class=\"dataframe\">\n",
       "  <thead>\n",
       "    <tr style=\"text-align: right;\">\n",
       "      <th></th>\n",
       "      <th>INSTNM</th>\n",
       "      <th>CITY</th>\n",
       "      <th>UGDS</th>\n",
       "    </tr>\n",
       "  </thead>\n",
       "  <tbody>\n",
       "    <tr>\n",
       "      <th>2916</th>\n",
       "      <td>Zane State College</td>\n",
       "      <td>Zanesville</td>\n",
       "      <td>2063.0</td>\n",
       "    </tr>\n",
       "    <tr>\n",
       "      <th>83</th>\n",
       "      <td>Arizona Western College</td>\n",
       "      <td>Yuma</td>\n",
       "      <td>7218.0</td>\n",
       "    </tr>\n",
       "    <tr>\n",
       "      <th>4833</th>\n",
       "      <td>Yukon Beauty College Inc</td>\n",
       "      <td>Yukon</td>\n",
       "      <td>25.0</td>\n",
       "    </tr>\n",
       "    <tr>\n",
       "      <th>6561</th>\n",
       "      <td>Elite Cosmetology School</td>\n",
       "      <td>Yucca Valley</td>\n",
       "      <td>91.0</td>\n",
       "    </tr>\n",
       "    <tr>\n",
       "      <th>296</th>\n",
       "      <td>Crafton Hills College</td>\n",
       "      <td>Yucaipa</td>\n",
       "      <td>5152.0</td>\n",
       "    </tr>\n",
       "    <tr>\n",
       "      <th>...</th>\n",
       "      <td>...</td>\n",
       "      <td>...</td>\n",
       "      <td>...</td>\n",
       "    </tr>\n",
       "    <tr>\n",
       "      <th>3307</th>\n",
       "      <td>Pennsylvania State University-Penn State Abington</td>\n",
       "      <td>Abington</td>\n",
       "      <td>3505.0</td>\n",
       "    </tr>\n",
       "    <tr>\n",
       "      <th>3926</th>\n",
       "      <td>Virginia Highlands Community College</td>\n",
       "      <td>Abingdon</td>\n",
       "      <td>1703.0</td>\n",
       "    </tr>\n",
       "    <tr>\n",
       "      <th>3610</th>\n",
       "      <td>Abilene Christian University</td>\n",
       "      <td>Abilene</td>\n",
       "      <td>3572.0</td>\n",
       "    </tr>\n",
       "    <tr>\n",
       "      <th>3492</th>\n",
       "      <td>Northern State University</td>\n",
       "      <td>Aberdeen</td>\n",
       "      <td>1693.0</td>\n",
       "    </tr>\n",
       "    <tr>\n",
       "      <th>6241</th>\n",
       "      <td>Angeles Institute</td>\n",
       "      <td>ARTESIA</td>\n",
       "      <td>114.0</td>\n",
       "    </tr>\n",
       "  </tbody>\n",
       "</table>\n",
       "<p>2514 rows × 3 columns</p>\n",
       "</div>"
      ],
      "text/plain": [
       "                                                 INSTNM          CITY    UGDS\n",
       "2916                                 Zane State College    Zanesville  2063.0\n",
       "83                              Arizona Western College          Yuma  7218.0\n",
       "4833                           Yukon Beauty College Inc         Yukon    25.0\n",
       "6561                           Elite Cosmetology School  Yucca Valley    91.0\n",
       "296                               Crafton Hills College       Yucaipa  5152.0\n",
       "...                                                 ...           ...     ...\n",
       "3307  Pennsylvania State University-Penn State Abington      Abington  3505.0\n",
       "3926               Virginia Highlands Community College      Abingdon  1703.0\n",
       "3610                       Abilene Christian University       Abilene  3572.0\n",
       "3492                          Northern State University      Aberdeen  1693.0\n",
       "6241                                  Angeles Institute       ARTESIA   114.0\n",
       "\n",
       "[2514 rows x 3 columns]"
      ]
     },
     "execution_count": 38,
     "metadata": {},
     "output_type": "execute_result"
    }
   ],
   "source": [
    "(\n",
    "    college[['INSTNM', 'CITY', 'UGDS']]\n",
    "    .sort_values(['CITY', 'UGDS'], ascending=False)\n",
    "    .drop_duplicates(subset='CITY')\n",
    ")"
   ]
  },
  {
   "cell_type": "markdown",
   "id": "f40ef64d-c6c9-44dc-b047-c623e154329e",
   "metadata": {},
   "source": [
    "정렬을 위해 sort_values에 CITY를 추가했다."
   ]
  },
  {
   "cell_type": "code",
   "execution_count": 39,
   "id": "c230405f-eaae-40e2-a8d9-165838e48cd0",
   "metadata": {
    "tags": []
   },
   "outputs": [
    {
     "data": {
      "text/html": [
       "<div>\n",
       "<style scoped>\n",
       "    .dataframe tbody tr th:only-of-type {\n",
       "        vertical-align: middle;\n",
       "    }\n",
       "\n",
       "    .dataframe tbody tr th {\n",
       "        vertical-align: top;\n",
       "    }\n",
       "\n",
       "    .dataframe thead th {\n",
       "        text-align: right;\n",
       "    }\n",
       "</style>\n",
       "<table border=\"1\" class=\"dataframe\">\n",
       "  <thead>\n",
       "    <tr style=\"text-align: right;\">\n",
       "      <th></th>\n",
       "      <th>INSTNM</th>\n",
       "      <th>CITY</th>\n",
       "      <th>UGDS</th>\n",
       "    </tr>\n",
       "  </thead>\n",
       "  <tbody>\n",
       "    <tr>\n",
       "      <th>2916</th>\n",
       "      <td>Zane State College</td>\n",
       "      <td>Zanesville</td>\n",
       "      <td>2063.0</td>\n",
       "    </tr>\n",
       "    <tr>\n",
       "      <th>83</th>\n",
       "      <td>Arizona Western College</td>\n",
       "      <td>Yuma</td>\n",
       "      <td>7218.0</td>\n",
       "    </tr>\n",
       "    <tr>\n",
       "      <th>4833</th>\n",
       "      <td>Yukon Beauty College Inc</td>\n",
       "      <td>Yukon</td>\n",
       "      <td>25.0</td>\n",
       "    </tr>\n",
       "    <tr>\n",
       "      <th>6561</th>\n",
       "      <td>Elite Cosmetology School</td>\n",
       "      <td>Yucca Valley</td>\n",
       "      <td>91.0</td>\n",
       "    </tr>\n",
       "    <tr>\n",
       "      <th>296</th>\n",
       "      <td>Crafton Hills College</td>\n",
       "      <td>Yucaipa</td>\n",
       "      <td>5152.0</td>\n",
       "    </tr>\n",
       "    <tr>\n",
       "      <th>...</th>\n",
       "      <td>...</td>\n",
       "      <td>...</td>\n",
       "      <td>...</td>\n",
       "    </tr>\n",
       "    <tr>\n",
       "      <th>3307</th>\n",
       "      <td>Pennsylvania State University-Penn State Abington</td>\n",
       "      <td>Abington</td>\n",
       "      <td>3505.0</td>\n",
       "    </tr>\n",
       "    <tr>\n",
       "      <th>3926</th>\n",
       "      <td>Virginia Highlands Community College</td>\n",
       "      <td>Abingdon</td>\n",
       "      <td>1703.0</td>\n",
       "    </tr>\n",
       "    <tr>\n",
       "      <th>3610</th>\n",
       "      <td>Abilene Christian University</td>\n",
       "      <td>Abilene</td>\n",
       "      <td>3572.0</td>\n",
       "    </tr>\n",
       "    <tr>\n",
       "      <th>3492</th>\n",
       "      <td>Northern State University</td>\n",
       "      <td>Aberdeen</td>\n",
       "      <td>1693.0</td>\n",
       "    </tr>\n",
       "    <tr>\n",
       "      <th>6241</th>\n",
       "      <td>Angeles Institute</td>\n",
       "      <td>ARTESIA</td>\n",
       "      <td>114.0</td>\n",
       "    </tr>\n",
       "  </tbody>\n",
       "</table>\n",
       "<p>2514 rows × 3 columns</p>\n",
       "</div>"
      ],
      "text/plain": [
       "                                                 INSTNM          CITY    UGDS\n",
       "2916                                 Zane State College    Zanesville  2063.0\n",
       "83                              Arizona Western College          Yuma  7218.0\n",
       "4833                           Yukon Beauty College Inc         Yukon    25.0\n",
       "6561                           Elite Cosmetology School  Yucca Valley    91.0\n",
       "296                               Crafton Hills College       Yucaipa  5152.0\n",
       "...                                                 ...           ...     ...\n",
       "3307  Pennsylvania State University-Penn State Abington      Abington  3505.0\n",
       "3926               Virginia Highlands Community College      Abingdon  1703.0\n",
       "3610                       Abilene Christian University       Abilene  3572.0\n",
       "3492                          Northern State University      Aberdeen  1693.0\n",
       "6241                                  Angeles Institute       ARTESIA   114.0\n",
       "\n",
       "[2514 rows x 3 columns]"
      ]
     },
     "execution_count": 39,
     "metadata": {},
     "output_type": "execute_result"
    }
   ],
   "source": [
    "#groupby를 사용한 방법\n",
    "(\n",
    "    college[['INSTNM', 'CITY', 'UGDS']]\n",
    "    .groupby('CITY', as_index=False)\n",
    "    .apply(lambda df: df.sort_values(\n",
    "    'UGDS', ascending=False).head(1)\n",
    "    )\n",
    ".droplevel(0)\n",
    ".sort_values('CITY', ascending=False)\n",
    ")"
   ]
  },
  {
   "cell_type": "markdown",
   "id": "892aa54e-448a-41b0-9f07-895da3ea8def",
   "metadata": {},
   "source": [
    "groupby를 사용한 방법으로 INSTNM, CITY, UGDS 3가지 컬럼에서 \n",
    "\n",
    ".groupby('CITY', as_index=False)를 통해 CITY를 기준으로 그룹을 잡고\n",
    "\n",
    ".apply(lambda df: df.sort_values('UGDS', ascending=False).head(1))를 통해 그 그룹들 중에서 한 개를 선택한다. 그리고 UGDS로 정렬을 한다.(내림차순)\n",
    "\n",
    ".droplevel(0).sort_values('CITY', ascending=False)를 통해 앞의 인덱스를 지워준다."
   ]
  },
  {
   "cell_type": "code",
   "execution_count": 40,
   "id": "d4cc9cd2-2907-4088-a514-231a56a037f3",
   "metadata": {},
   "outputs": [
    {
     "data": {
      "text/html": [
       "<div>\n",
       "<style scoped>\n",
       "    .dataframe tbody tr th:only-of-type {\n",
       "        vertical-align: middle;\n",
       "    }\n",
       "\n",
       "    .dataframe tbody tr th {\n",
       "        vertical-align: top;\n",
       "    }\n",
       "\n",
       "    .dataframe thead th {\n",
       "        text-align: right;\n",
       "    }\n",
       "</style>\n",
       "<table border=\"1\" class=\"dataframe\">\n",
       "  <thead>\n",
       "    <tr style=\"text-align: right;\">\n",
       "      <th></th>\n",
       "      <th>INSTNM</th>\n",
       "      <th>CITY</th>\n",
       "      <th>UGDS</th>\n",
       "    </tr>\n",
       "  </thead>\n",
       "  <tbody>\n",
       "    <tr>\n",
       "      <th>7116</th>\n",
       "      <td>University of Phoenix-Arizona</td>\n",
       "      <td>Tempe</td>\n",
       "      <td>151558.0</td>\n",
       "    </tr>\n",
       "    <tr>\n",
       "      <th>1189</th>\n",
       "      <td>Ivy Tech Community College</td>\n",
       "      <td>Indianapolis</td>\n",
       "      <td>77657.0</td>\n",
       "    </tr>\n",
       "    <tr>\n",
       "      <th>793</th>\n",
       "      <td>Miami Dade College</td>\n",
       "      <td>Miami</td>\n",
       "      <td>61470.0</td>\n",
       "    </tr>\n",
       "    <tr>\n",
       "      <th>3711</th>\n",
       "      <td>Lone Star College System</td>\n",
       "      <td>The Woodlands</td>\n",
       "      <td>59920.0</td>\n",
       "    </tr>\n",
       "    <tr>\n",
       "      <th>3669</th>\n",
       "      <td>Houston Community College</td>\n",
       "      <td>Houston</td>\n",
       "      <td>58084.0</td>\n",
       "    </tr>\n",
       "    <tr>\n",
       "      <th>...</th>\n",
       "      <td>...</td>\n",
       "      <td>...</td>\n",
       "      <td>...</td>\n",
       "    </tr>\n",
       "    <tr>\n",
       "      <th>5316</th>\n",
       "      <td>Marlboro College Graduate &amp; Professional Studies</td>\n",
       "      <td>Brattleboro</td>\n",
       "      <td>7.0</td>\n",
       "    </tr>\n",
       "    <tr>\n",
       "      <th>5957</th>\n",
       "      <td>Gentle Healing School of Massage</td>\n",
       "      <td>Cranbury</td>\n",
       "      <td>5.0</td>\n",
       "    </tr>\n",
       "    <tr>\n",
       "      <th>1674</th>\n",
       "      <td>Hebrew College</td>\n",
       "      <td>Newton Centre</td>\n",
       "      <td>2.0</td>\n",
       "    </tr>\n",
       "    <tr>\n",
       "      <th>1889</th>\n",
       "      <td>Hazelden Betty Ford Graduate School of Addicti...</td>\n",
       "      <td>Center City</td>\n",
       "      <td>1.0</td>\n",
       "    </tr>\n",
       "    <tr>\n",
       "      <th>654</th>\n",
       "      <td>Lyme Academy College of Fine Arts</td>\n",
       "      <td>Old Lyme</td>\n",
       "      <td>0.0</td>\n",
       "    </tr>\n",
       "  </tbody>\n",
       "</table>\n",
       "<p>2446 rows × 3 columns</p>\n",
       "</div>"
      ],
      "text/plain": [
       "                                                 INSTNM           CITY  \\\n",
       "7116                      University of Phoenix-Arizona          Tempe   \n",
       "1189                         Ivy Tech Community College   Indianapolis   \n",
       "793                                  Miami Dade College          Miami   \n",
       "3711                           Lone Star College System  The Woodlands   \n",
       "3669                          Houston Community College        Houston   \n",
       "...                                                 ...            ...   \n",
       "5316   Marlboro College Graduate & Professional Studies    Brattleboro   \n",
       "5957                   Gentle Healing School of Massage       Cranbury   \n",
       "1674                                     Hebrew College  Newton Centre   \n",
       "1889  Hazelden Betty Ford Graduate School of Addicti...    Center City   \n",
       "654                   Lyme Academy College of Fine Arts       Old Lyme   \n",
       "\n",
       "          UGDS  \n",
       "7116  151558.0  \n",
       "1189   77657.0  \n",
       "793    61470.0  \n",
       "3711   59920.0  \n",
       "3669   58084.0  \n",
       "...        ...  \n",
       "5316       7.0  \n",
       "5957       5.0  \n",
       "1674       2.0  \n",
       "1889       1.0  \n",
       "654        0.0  \n",
       "\n",
       "[2446 rows x 3 columns]"
      ]
     },
     "execution_count": 40,
     "metadata": {},
     "output_type": "execute_result"
    }
   ],
   "source": [
    "#nlargest를 사용한 방법\n",
    "(\n",
    "    college[['INSTNM', 'CITY', 'UGDS']]\n",
    "    .nlargest(10000, 'UGDS')\n",
    "    .drop_duplicates(subset='CITY')\n",
    "    #.sort_values('CITY', ascending=False)\n",
    ")"
   ]
  },
  {
   "cell_type": "markdown",
   "id": "8020facd-9864-4988-b073-f7c000690c51",
   "metadata": {},
   "source": [
    "college[['INSTNM', 'CITY', 'UGDS']]를 통해 3가지 컬럼을 가져왔다.\n",
    "\n",
    ".nlargest(10000, 'UGDS')를 통해 UGDS의 값이 가장 큰 10000개의 데이터를 가져왔다.\n",
    "\n",
    ".drop_duplicates(subset='CITY')를 통해 CITY를 그룹으로 주어 CITY별로 UGDS의 최대값을 가져왔다.\n",
    "\n",
    "nlargest를 사용할 때는 NA값이 제외되어 rows값이 다르게 나온다."
   ]
  },
  {
   "cell_type": "markdown",
   "id": "c9958a34-33fa-4f35-b7f9-e25bb8c01756",
   "metadata": {},
   "source": [
    "## 3. 주별, RELAFFIL 별 UGDS의 최대값을 구하라\n",
    "> INSTNM, STABBR, RELAFFIL, UGDS"
   ]
  },
  {
   "cell_type": "code",
   "execution_count": 41,
   "id": "6f2bf0c5-a8fb-40a1-b7fb-dd8ff49ecf2a",
   "metadata": {
    "tags": []
   },
   "outputs": [
    {
     "data": {
      "text/html": [
       "<div>\n",
       "<style scoped>\n",
       "    .dataframe tbody tr th:only-of-type {\n",
       "        vertical-align: middle;\n",
       "    }\n",
       "\n",
       "    .dataframe tbody tr th {\n",
       "        vertical-align: top;\n",
       "    }\n",
       "\n",
       "    .dataframe thead th {\n",
       "        text-align: right;\n",
       "    }\n",
       "</style>\n",
       "<table border=\"1\" class=\"dataframe\">\n",
       "  <thead>\n",
       "    <tr style=\"text-align: right;\">\n",
       "      <th></th>\n",
       "      <th>INSTNM</th>\n",
       "      <th>STABBR</th>\n",
       "      <th>RELAFFIL</th>\n",
       "      <th>UGDS</th>\n",
       "    </tr>\n",
       "  </thead>\n",
       "  <tbody>\n",
       "    <tr>\n",
       "      <th>60</th>\n",
       "      <td>University of Alaska Anchorage</td>\n",
       "      <td>AK</td>\n",
       "      <td>0</td>\n",
       "      <td>12865.0</td>\n",
       "    </tr>\n",
       "    <tr>\n",
       "      <th>64</th>\n",
       "      <td>Alaska Pacific University</td>\n",
       "      <td>AK</td>\n",
       "      <td>1</td>\n",
       "      <td>275.0</td>\n",
       "    </tr>\n",
       "    <tr>\n",
       "      <th>5</th>\n",
       "      <td>The University of Alabama</td>\n",
       "      <td>AL</td>\n",
       "      <td>0</td>\n",
       "      <td>29851.0</td>\n",
       "    </tr>\n",
       "    <tr>\n",
       "      <th>46</th>\n",
       "      <td>Samford University</td>\n",
       "      <td>AL</td>\n",
       "      <td>1</td>\n",
       "      <td>3033.0</td>\n",
       "    </tr>\n",
       "    <tr>\n",
       "      <th>137</th>\n",
       "      <td>University of Arkansas</td>\n",
       "      <td>AR</td>\n",
       "      <td>0</td>\n",
       "      <td>21405.0</td>\n",
       "    </tr>\n",
       "    <tr>\n",
       "      <th>...</th>\n",
       "      <td>...</td>\n",
       "      <td>...</td>\n",
       "      <td>...</td>\n",
       "      <td>...</td>\n",
       "    </tr>\n",
       "    <tr>\n",
       "      <th>4123</th>\n",
       "      <td>University of Wisconsin-Madison</td>\n",
       "      <td>WI</td>\n",
       "      <td>0</td>\n",
       "      <td>29302.0</td>\n",
       "    </tr>\n",
       "    <tr>\n",
       "      <th>4085</th>\n",
       "      <td>Marquette University</td>\n",
       "      <td>WI</td>\n",
       "      <td>1</td>\n",
       "      <td>8212.0</td>\n",
       "    </tr>\n",
       "    <tr>\n",
       "      <th>5817</th>\n",
       "      <td>American Public University System</td>\n",
       "      <td>WV</td>\n",
       "      <td>0</td>\n",
       "      <td>44924.0</td>\n",
       "    </tr>\n",
       "    <tr>\n",
       "      <th>4054</th>\n",
       "      <td>West Virginia Wesleyan College</td>\n",
       "      <td>WV</td>\n",
       "      <td>1</td>\n",
       "      <td>1375.0</td>\n",
       "    </tr>\n",
       "    <tr>\n",
       "      <th>4137</th>\n",
       "      <td>University of Wyoming</td>\n",
       "      <td>WY</td>\n",
       "      <td>0</td>\n",
       "      <td>9910.0</td>\n",
       "    </tr>\n",
       "  </tbody>\n",
       "</table>\n",
       "<p>112 rows × 4 columns</p>\n",
       "</div>"
      ],
      "text/plain": [
       "                                 INSTNM STABBR  RELAFFIL     UGDS\n",
       "60       University of Alaska Anchorage     AK         0  12865.0\n",
       "64            Alaska Pacific University     AK         1    275.0\n",
       "5             The University of Alabama     AL         0  29851.0\n",
       "46                   Samford University     AL         1   3033.0\n",
       "137              University of Arkansas     AR         0  21405.0\n",
       "...                                 ...    ...       ...      ...\n",
       "4123    University of Wisconsin-Madison     WI         0  29302.0\n",
       "4085               Marquette University     WI         1   8212.0\n",
       "5817  American Public University System     WV         0  44924.0\n",
       "4054     West Virginia Wesleyan College     WV         1   1375.0\n",
       "4137              University of Wyoming     WY         0   9910.0\n",
       "\n",
       "[112 rows x 4 columns]"
      ]
     },
     "execution_count": 41,
     "metadata": {},
     "output_type": "execute_result"
    }
   ],
   "source": [
    "#sort_values를 사용한 방법\n",
    "(\n",
    "college[['INSTNM', 'STABBR', 'RELAFFIL', 'UGDS']]\n",
    ".sort_values(['STABBR', 'RELAFFIL', 'UGDS'], ascending=[True, True, False])\n",
    ".drop_duplicates(subset=['STABBR', 'RELAFFIL'])\n",
    ")"
   ]
  },
  {
   "cell_type": "markdown",
   "id": "9b11e8d5-3e02-48b1-bb1b-9b4d3ad06410",
   "metadata": {},
   "source": [
    "sort_values를 사용한 방법으로 INSTNM, STABBR, RELAFFIL, UGDS 컬럼에서 \n",
    "\n",
    ".sort_values(['STABBR', 'RELAFFIL', 'UGDS'], ascending=[True, True, False])을 통해 STABBR별 RELAFFIL별에서 UGDS의 ascending을 False로 줘서 최대값으로 정렬하였다.\n",
    "\n",
    ".drop_duplicates(subset=['STABBR', 'RELAFFIL'])을 통해 STABBR와 RELAFFIL 그룹으로 만들었다."
   ]
  },
  {
   "cell_type": "code",
   "execution_count": 42,
   "id": "b6add7cf-3afc-48b1-bdde-12cdfd5854fb",
   "metadata": {},
   "outputs": [
    {
     "data": {
      "text/html": [
       "<div>\n",
       "<style scoped>\n",
       "    .dataframe tbody tr th:only-of-type {\n",
       "        vertical-align: middle;\n",
       "    }\n",
       "\n",
       "    .dataframe tbody tr th {\n",
       "        vertical-align: top;\n",
       "    }\n",
       "\n",
       "    .dataframe thead th {\n",
       "        text-align: right;\n",
       "    }\n",
       "</style>\n",
       "<table border=\"1\" class=\"dataframe\">\n",
       "  <thead>\n",
       "    <tr style=\"text-align: right;\">\n",
       "      <th></th>\n",
       "      <th>INSTNM</th>\n",
       "      <th>STABBR</th>\n",
       "      <th>RELAFFIL</th>\n",
       "      <th>UGDS</th>\n",
       "    </tr>\n",
       "  </thead>\n",
       "  <tbody>\n",
       "    <tr>\n",
       "      <th>60</th>\n",
       "      <td>University of Alaska Anchorage</td>\n",
       "      <td>AK</td>\n",
       "      <td>0</td>\n",
       "      <td>12865.0</td>\n",
       "    </tr>\n",
       "    <tr>\n",
       "      <th>64</th>\n",
       "      <td>Alaska Pacific University</td>\n",
       "      <td>AK</td>\n",
       "      <td>1</td>\n",
       "      <td>275.0</td>\n",
       "    </tr>\n",
       "    <tr>\n",
       "      <th>5</th>\n",
       "      <td>The University of Alabama</td>\n",
       "      <td>AL</td>\n",
       "      <td>0</td>\n",
       "      <td>29851.0</td>\n",
       "    </tr>\n",
       "    <tr>\n",
       "      <th>46</th>\n",
       "      <td>Samford University</td>\n",
       "      <td>AL</td>\n",
       "      <td>1</td>\n",
       "      <td>3033.0</td>\n",
       "    </tr>\n",
       "    <tr>\n",
       "      <th>137</th>\n",
       "      <td>University of Arkansas</td>\n",
       "      <td>AR</td>\n",
       "      <td>0</td>\n",
       "      <td>21405.0</td>\n",
       "    </tr>\n",
       "    <tr>\n",
       "      <th>...</th>\n",
       "      <td>...</td>\n",
       "      <td>...</td>\n",
       "      <td>...</td>\n",
       "      <td>...</td>\n",
       "    </tr>\n",
       "    <tr>\n",
       "      <th>4123</th>\n",
       "      <td>University of Wisconsin-Madison</td>\n",
       "      <td>WI</td>\n",
       "      <td>0</td>\n",
       "      <td>29302.0</td>\n",
       "    </tr>\n",
       "    <tr>\n",
       "      <th>4085</th>\n",
       "      <td>Marquette University</td>\n",
       "      <td>WI</td>\n",
       "      <td>1</td>\n",
       "      <td>8212.0</td>\n",
       "    </tr>\n",
       "    <tr>\n",
       "      <th>5817</th>\n",
       "      <td>American Public University System</td>\n",
       "      <td>WV</td>\n",
       "      <td>0</td>\n",
       "      <td>44924.0</td>\n",
       "    </tr>\n",
       "    <tr>\n",
       "      <th>4054</th>\n",
       "      <td>West Virginia Wesleyan College</td>\n",
       "      <td>WV</td>\n",
       "      <td>1</td>\n",
       "      <td>1375.0</td>\n",
       "    </tr>\n",
       "    <tr>\n",
       "      <th>4137</th>\n",
       "      <td>University of Wyoming</td>\n",
       "      <td>WY</td>\n",
       "      <td>0</td>\n",
       "      <td>9910.0</td>\n",
       "    </tr>\n",
       "  </tbody>\n",
       "</table>\n",
       "<p>112 rows × 4 columns</p>\n",
       "</div>"
      ],
      "text/plain": [
       "                                 INSTNM STABBR  RELAFFIL     UGDS\n",
       "60       University of Alaska Anchorage     AK         0  12865.0\n",
       "64            Alaska Pacific University     AK         1    275.0\n",
       "5             The University of Alabama     AL         0  29851.0\n",
       "46                   Samford University     AL         1   3033.0\n",
       "137              University of Arkansas     AR         0  21405.0\n",
       "...                                 ...    ...       ...      ...\n",
       "4123    University of Wisconsin-Madison     WI         0  29302.0\n",
       "4085               Marquette University     WI         1   8212.0\n",
       "5817  American Public University System     WV         0  44924.0\n",
       "4054     West Virginia Wesleyan College     WV         1   1375.0\n",
       "4137              University of Wyoming     WY         0   9910.0\n",
       "\n",
       "[112 rows x 4 columns]"
      ]
     },
     "execution_count": 42,
     "metadata": {},
     "output_type": "execute_result"
    }
   ],
   "source": [
    "#groupby를 사용한 방법\n",
    "(\n",
    "    college[['INSTNM', 'STABBR', 'RELAFFIL', 'UGDS']]\n",
    "    .groupby(['STABBR', 'RELAFFIL'], as_index=False)\n",
    "    .apply(lambda df: df.sort_values(\n",
    "    'UGDS', ascending=False).head(1)\n",
    "    )\n",
    ".droplevel(0)\n",
    "#.sort_values(['STABBR', 'RELAFFIL', 'UGDS'], ascending=[False, True, False])\n",
    ")"
   ]
  },
  {
   "cell_type": "markdown",
   "id": "3ab4c57d-38fd-42bb-86e1-1a65ce9f94dc",
   "metadata": {},
   "source": [
    "groupby를 사용한 방법으로 .groupby(['STABBR', 'RELAFFIL'], as_index=False)을 통해 STABBR와 RELAFFIL 그룹으로 만들고\n",
    "\n",
    ".apply(lambda df: df.sort_values('UGDS', ascending=False).head(1))를 통해 그 그룹별로 한 개를 선택한다. 그리고 UGDS로 정렬을 한다.\n",
    "\n",
    "sort_values를 사용한 방법과 같은 결과가 나온 것을 알 수 있다. "
   ]
  },
  {
   "cell_type": "code",
   "execution_count": 43,
   "id": "ef21d26a-f359-42c6-b25f-debe0451d298",
   "metadata": {},
   "outputs": [
    {
     "data": {
      "text/html": [
       "<div>\n",
       "<style scoped>\n",
       "    .dataframe tbody tr th:only-of-type {\n",
       "        vertical-align: middle;\n",
       "    }\n",
       "\n",
       "    .dataframe tbody tr th {\n",
       "        vertical-align: top;\n",
       "    }\n",
       "\n",
       "    .dataframe thead th {\n",
       "        text-align: right;\n",
       "    }\n",
       "</style>\n",
       "<table border=\"1\" class=\"dataframe\">\n",
       "  <thead>\n",
       "    <tr style=\"text-align: right;\">\n",
       "      <th></th>\n",
       "      <th>INSTNM</th>\n",
       "      <th>STABBR</th>\n",
       "      <th>RELAFFIL</th>\n",
       "      <th>UGDS</th>\n",
       "    </tr>\n",
       "  </thead>\n",
       "  <tbody>\n",
       "    <tr>\n",
       "      <th>7116</th>\n",
       "      <td>University of Phoenix-Arizona</td>\n",
       "      <td>AZ</td>\n",
       "      <td>0</td>\n",
       "      <td>151558.0</td>\n",
       "    </tr>\n",
       "    <tr>\n",
       "      <th>1189</th>\n",
       "      <td>Ivy Tech Community College</td>\n",
       "      <td>IN</td>\n",
       "      <td>0</td>\n",
       "      <td>77657.0</td>\n",
       "    </tr>\n",
       "    <tr>\n",
       "      <th>793</th>\n",
       "      <td>Miami Dade College</td>\n",
       "      <td>FL</td>\n",
       "      <td>0</td>\n",
       "      <td>61470.0</td>\n",
       "    </tr>\n",
       "    <tr>\n",
       "      <th>3711</th>\n",
       "      <td>Lone Star College System</td>\n",
       "      <td>TX</td>\n",
       "      <td>0</td>\n",
       "      <td>59920.0</td>\n",
       "    </tr>\n",
       "    <tr>\n",
       "      <th>3880</th>\n",
       "      <td>Liberty University</td>\n",
       "      <td>VA</td>\n",
       "      <td>1</td>\n",
       "      <td>49340.0</td>\n",
       "    </tr>\n",
       "    <tr>\n",
       "      <th>...</th>\n",
       "      <td>...</td>\n",
       "      <td>...</td>\n",
       "      <td>...</td>\n",
       "      <td>...</td>\n",
       "    </tr>\n",
       "    <tr>\n",
       "      <th>4561</th>\n",
       "      <td>College of the Marshall Islands</td>\n",
       "      <td>MH</td>\n",
       "      <td>0</td>\n",
       "      <td>1078.0</td>\n",
       "    </tr>\n",
       "    <tr>\n",
       "      <th>4215</th>\n",
       "      <td>Palau Community College</td>\n",
       "      <td>PW</td>\n",
       "      <td>0</td>\n",
       "      <td>602.0</td>\n",
       "    </tr>\n",
       "    <tr>\n",
       "      <th>64</th>\n",
       "      <td>Alaska Pacific University</td>\n",
       "      <td>AK</td>\n",
       "      <td>1</td>\n",
       "      <td>275.0</td>\n",
       "    </tr>\n",
       "    <tr>\n",
       "      <th>5289</th>\n",
       "      <td>Pacific Islands University</td>\n",
       "      <td>GU</td>\n",
       "      <td>1</td>\n",
       "      <td>65.0</td>\n",
       "    </tr>\n",
       "    <tr>\n",
       "      <th>6439</th>\n",
       "      <td>Touro University Nevada</td>\n",
       "      <td>NV</td>\n",
       "      <td>1</td>\n",
       "      <td>31.0</td>\n",
       "    </tr>\n",
       "  </tbody>\n",
       "</table>\n",
       "<p>110 rows × 4 columns</p>\n",
       "</div>"
      ],
      "text/plain": [
       "                               INSTNM STABBR  RELAFFIL      UGDS\n",
       "7116    University of Phoenix-Arizona     AZ         0  151558.0\n",
       "1189       Ivy Tech Community College     IN         0   77657.0\n",
       "793                Miami Dade College     FL         0   61470.0\n",
       "3711         Lone Star College System     TX         0   59920.0\n",
       "3880               Liberty University     VA         1   49340.0\n",
       "...                               ...    ...       ...       ...\n",
       "4561  College of the Marshall Islands     MH         0    1078.0\n",
       "4215          Palau Community College     PW         0     602.0\n",
       "64          Alaska Pacific University     AK         1     275.0\n",
       "5289       Pacific Islands University     GU         1      65.0\n",
       "6439          Touro University Nevada     NV         1      31.0\n",
       "\n",
       "[110 rows x 4 columns]"
      ]
     },
     "execution_count": 43,
     "metadata": {},
     "output_type": "execute_result"
    }
   ],
   "source": [
    "#nlargest를 사용한 방법\n",
    "(\n",
    "    college[['INSTNM', 'STABBR', 'RELAFFIL', 'UGDS']]\n",
    "    .nlargest(10000, 'UGDS')\n",
    "    .drop_duplicates(subset=['STABBR', 'RELAFFIL'])\n",
    "    #.sort_values(['STABBR', 'RELAFFIL', 'UGDS'], ascending=[True, True, False])\n",
    ")"
   ]
  },
  {
   "cell_type": "markdown",
   "id": "883ec98d-a294-4a07-9b4f-aad88434c077",
   "metadata": {},
   "source": [
    ".nlargest(10000, 'UGDS')를 통해 UGDS의 값이 가장 큰 10000개의 데이터를 가져왔다.\n",
    "\n",
    ".drop_duplicates(subset=['STABBR', 'RELAFFIL'])를 통해 각 그룹으로 만들어 그룹별로 UGDS의 최대값을 가져왔다.\n",
    "\n",
    "nlargest를 사용할 때는 NA값이 제외되어 rows값이 다르게 나온다.\n",
    "\n",
    "rows수가 groupby와 sort_values를 사용한 방법에 비해서 2개 적은데 nlargest를 사용할 때는 NA값이 제외되기 때문에 110rows가 나오게 된다."
   ]
  },
  {
   "cell_type": "code",
   "execution_count": 44,
   "id": "2aa07f94-0351-4a83-9d39-aa0f3de396b4",
   "metadata": {},
   "outputs": [
    {
     "data": {
      "text/html": [
       "<div>\n",
       "<style scoped>\n",
       "    .dataframe tbody tr th:only-of-type {\n",
       "        vertical-align: middle;\n",
       "    }\n",
       "\n",
       "    .dataframe tbody tr th {\n",
       "        vertical-align: top;\n",
       "    }\n",
       "\n",
       "    .dataframe thead th {\n",
       "        text-align: right;\n",
       "    }\n",
       "</style>\n",
       "<table border=\"1\" class=\"dataframe\">\n",
       "  <thead>\n",
       "    <tr style=\"text-align: right;\">\n",
       "      <th></th>\n",
       "      <th>INSTNM</th>\n",
       "      <th>STABBR</th>\n",
       "      <th>RELAFFIL</th>\n",
       "      <th>UGDS</th>\n",
       "    </tr>\n",
       "  </thead>\n",
       "  <tbody>\n",
       "    <tr>\n",
       "      <th>60</th>\n",
       "      <td>University of Alaska Anchorage</td>\n",
       "      <td>AK</td>\n",
       "      <td>0</td>\n",
       "      <td>12865.0</td>\n",
       "    </tr>\n",
       "    <tr>\n",
       "      <th>64</th>\n",
       "      <td>Alaska Pacific University</td>\n",
       "      <td>AK</td>\n",
       "      <td>1</td>\n",
       "      <td>275.0</td>\n",
       "    </tr>\n",
       "    <tr>\n",
       "      <th>5</th>\n",
       "      <td>The University of Alabama</td>\n",
       "      <td>AL</td>\n",
       "      <td>0</td>\n",
       "      <td>29851.0</td>\n",
       "    </tr>\n",
       "    <tr>\n",
       "      <th>46</th>\n",
       "      <td>Samford University</td>\n",
       "      <td>AL</td>\n",
       "      <td>1</td>\n",
       "      <td>3033.0</td>\n",
       "    </tr>\n",
       "    <tr>\n",
       "      <th>137</th>\n",
       "      <td>University of Arkansas</td>\n",
       "      <td>AR</td>\n",
       "      <td>0</td>\n",
       "      <td>21405.0</td>\n",
       "    </tr>\n",
       "    <tr>\n",
       "      <th>...</th>\n",
       "      <td>...</td>\n",
       "      <td>...</td>\n",
       "      <td>...</td>\n",
       "      <td>...</td>\n",
       "    </tr>\n",
       "    <tr>\n",
       "      <th>4123</th>\n",
       "      <td>University of Wisconsin-Madison</td>\n",
       "      <td>WI</td>\n",
       "      <td>0</td>\n",
       "      <td>29302.0</td>\n",
       "    </tr>\n",
       "    <tr>\n",
       "      <th>4085</th>\n",
       "      <td>Marquette University</td>\n",
       "      <td>WI</td>\n",
       "      <td>1</td>\n",
       "      <td>8212.0</td>\n",
       "    </tr>\n",
       "    <tr>\n",
       "      <th>5817</th>\n",
       "      <td>American Public University System</td>\n",
       "      <td>WV</td>\n",
       "      <td>0</td>\n",
       "      <td>44924.0</td>\n",
       "    </tr>\n",
       "    <tr>\n",
       "      <th>4054</th>\n",
       "      <td>West Virginia Wesleyan College</td>\n",
       "      <td>WV</td>\n",
       "      <td>1</td>\n",
       "      <td>1375.0</td>\n",
       "    </tr>\n",
       "    <tr>\n",
       "      <th>4137</th>\n",
       "      <td>University of Wyoming</td>\n",
       "      <td>WY</td>\n",
       "      <td>0</td>\n",
       "      <td>9910.0</td>\n",
       "    </tr>\n",
       "  </tbody>\n",
       "</table>\n",
       "<p>110 rows × 4 columns</p>\n",
       "</div>"
      ],
      "text/plain": [
       "                                 INSTNM STABBR  RELAFFIL     UGDS\n",
       "60       University of Alaska Anchorage     AK         0  12865.0\n",
       "64            Alaska Pacific University     AK         1    275.0\n",
       "5             The University of Alabama     AL         0  29851.0\n",
       "46                   Samford University     AL         1   3033.0\n",
       "137              University of Arkansas     AR         0  21405.0\n",
       "...                                 ...    ...       ...      ...\n",
       "4123    University of Wisconsin-Madison     WI         0  29302.0\n",
       "4085               Marquette University     WI         1   8212.0\n",
       "5817  American Public University System     WV         0  44924.0\n",
       "4054     West Virginia Wesleyan College     WV         1   1375.0\n",
       "4137              University of Wyoming     WY         0   9910.0\n",
       "\n",
       "[110 rows x 4 columns]"
      ]
     },
     "execution_count": 44,
     "metadata": {},
     "output_type": "execute_result"
    }
   ],
   "source": [
    "(\n",
    "    college[['INSTNM', 'STABBR', 'RELAFFIL', 'UGDS']]\n",
    "    .nlargest(10000, 'UGDS')\n",
    "    .drop_duplicates(subset=['STABBR', 'RELAFFIL'])\n",
    "    .sort_values(['STABBR', 'RELAFFIL', 'UGDS'], ascending=[True, True, False])\n",
    ")"
   ]
  },
  {
   "cell_type": "markdown",
   "id": "ddd9a0dc-0036-4743-841e-d122abc188f0",
   "metadata": {},
   "source": [
    ".sort_values(['STABBR', 'RELAFFIL', 'UGDS'], ascending=[True, True, False])를 추가하면 groupby와 sort_values를 사용했을 때와 마찬가지로 정렬한다. "
   ]
  },
  {
   "cell_type": "markdown",
   "id": "3fbd1009-2892-4d5a-bc93-aa58ded021ac",
   "metadata": {},
   "source": [
    "# 4. 데이터를 찾기 시작해보자."
   ]
  },
  {
   "cell_type": "markdown",
   "id": "c8af3a16-cb7e-49f3-8493-3330a1a2cdde",
   "metadata": {},
   "source": [
    "현재 조를 확정하지 못했기 때문에 조원들과 같이 데이터를 찾아보지는 못했습니다. 그렇기 때문에 일단 임의로 프로그래밍3 프로젝트를 위한 분석용 분석 대상 데이터를 찾아 보았습니다.\n",
    "\n",
    "우선 두 가지의 데이터를 찾아보았는데 첫 번째로 movielens의 데이터를 선택했고 \n",
    "\n",
    "그 중 MovieLens 1M Dataset 데이터를 찾아보았습니다. 이 데이터는 MovieLens 1M Dataset은 6,040명의 MovieLens 사용자가 약 3,900편의 영화에 대한 1,000,209개의 평가 데이터가 포함되어있습니다.\n",
    "\n",
    "이 데이터는 userid, movieid, rating, timestamp로 이루어진 ratings 파일과 userid, gender, age, occupation, zip-code로 이루어진 user 파일\n",
    "\n",
    "그리고 movieid, title, genres로 이루어진 movies 파일 이렇게 3가지의 파일로 이루어있습니다. \n",
    "\n",
    "grouping과 관련해서는 Gender(성별)는 2개, age(나이)는 7개, Occupation(직업)은 21개, Genres(장르)는 18개로 나누어져있습니다.\n",
    "\n",
    "MovieLens 1M Dataset 데이터는 https://grouplens.org/datasets/movielens/ 에서 다운로드가 가능합니다.\n",
    "\n",
    "이 데이터의 분석을 통해 얻을 수 있는 목표는 성별, 직업, 나이 등의 차이에 따른 평점을 분석하여 선호하는 영화의 장르가 무엇인지와 영화 선호도의 분석을 할 수 있을 것입니다."
   ]
  },
  {
   "cell_type": "markdown",
   "id": "4bfeccdd-988a-4753-b14f-a6cad0bd57d8",
   "metadata": {},
   "source": [
    "두 번째로는 경찰청_범죄자 생활정도, 혼인관계 및 부모관계 데이터를 찾아보았습니다.\n",
    "데이터는 범죄대분류, 범죄 중분류로 나누어지고 생활정도(4), 혼인관계(4), 미혼자부모관계(9), 미상(1)의 column으로 나누어집니다.\n",
    "\n",
    "각 범죄자의 범죄 유형 분류와 가족관계, 생활정도에 대한 데이터 입니다.\n",
    "\n",
    "경찰청_범죄자 생활정도, 혼인관계 및 부모관계 데이터는 공공데이터포털 https://www.data.go.kr/data/3074470/fileData.do 에서 다운로드 받을 수 있습니다.\n",
    "\n",
    "이 데이터의 분석을 통한 목표는 범죄자의 가족관계, 생활 정도에 따라 어떤 범죄 유형이 나타나고 빈도수에 대한 분석을 할 수 있을 것입니다."
   ]
  },
  {
   "cell_type": "code",
   "execution_count": null,
   "id": "4d70a938-03bc-4886-b5e3-212edf59dea7",
   "metadata": {},
   "outputs": [],
   "source": []
  }
 ],
 "metadata": {
  "kernelspec": {
   "display_name": "Python 3 (ipykernel)",
   "language": "python",
   "name": "python3"
  },
  "language_info": {
   "codemirror_mode": {
    "name": "ipython",
    "version": 3
   },
   "file_extension": ".py",
   "mimetype": "text/x-python",
   "name": "python",
   "nbconvert_exporter": "python",
   "pygments_lexer": "ipython3",
   "version": "3.9.7"
  }
 },
 "nbformat": 4,
 "nbformat_minor": 5
}
